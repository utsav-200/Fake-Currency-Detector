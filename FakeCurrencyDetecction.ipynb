{
 "cells": [
  {
   "cell_type": "code",
   "execution_count": 6,
   "id": "6b6346b0",
   "metadata": {},
   "outputs": [],
   "source": [
    "#FAKE CURRENCY DETECTION USING LOGISCTIC REGRESSION\n",
    "import pandas as pd\n",
    "import numpy as np\n",
    "import matplotlib.pyplot as plt\n",
    "import seaborn as sns \n",
    "%matplotlib inline\n",
    "from sklearn.model_selection import train_test_split\n",
    "from sklearn.metrics import confusion_matrix,classification_report\n",
    "from sklearn.preprocessing import StandardScaler\n",
    "from sklearn.linear_model import LogisticRegression"
   ]
  },
  {
   "cell_type": "code",
   "execution_count": 10,
   "id": "09c66a1b",
   "metadata": {},
   "outputs": [
    {
     "data": {
      "text/html": [
       "<div>\n",
       "<style scoped>\n",
       "    .dataframe tbody tr th:only-of-type {\n",
       "        vertical-align: middle;\n",
       "    }\n",
       "\n",
       "    .dataframe tbody tr th {\n",
       "        vertical-align: top;\n",
       "    }\n",
       "\n",
       "    .dataframe thead th {\n",
       "        text-align: right;\n",
       "    }\n",
       "</style>\n",
       "<table border=\"1\" class=\"dataframe\">\n",
       "  <thead>\n",
       "    <tr style=\"text-align: right;\">\n",
       "      <th></th>\n",
       "      <th>var</th>\n",
       "      <th>skew</th>\n",
       "      <th>curt</th>\n",
       "      <th>entr</th>\n",
       "      <th>auth</th>\n",
       "    </tr>\n",
       "  </thead>\n",
       "  <tbody>\n",
       "    <tr>\n",
       "      <th>0</th>\n",
       "      <td>4.54590</td>\n",
       "      <td>8.16740</td>\n",
       "      <td>-2.4586</td>\n",
       "      <td>-1.46210</td>\n",
       "      <td>0</td>\n",
       "    </tr>\n",
       "    <tr>\n",
       "      <th>1</th>\n",
       "      <td>3.86600</td>\n",
       "      <td>-2.63830</td>\n",
       "      <td>1.9242</td>\n",
       "      <td>0.10645</td>\n",
       "      <td>0</td>\n",
       "    </tr>\n",
       "    <tr>\n",
       "      <th>2</th>\n",
       "      <td>3.45660</td>\n",
       "      <td>9.52280</td>\n",
       "      <td>-4.0112</td>\n",
       "      <td>-3.59440</td>\n",
       "      <td>0</td>\n",
       "    </tr>\n",
       "    <tr>\n",
       "      <th>3</th>\n",
       "      <td>0.32924</td>\n",
       "      <td>-4.45520</td>\n",
       "      <td>4.5718</td>\n",
       "      <td>-0.98880</td>\n",
       "      <td>0</td>\n",
       "    </tr>\n",
       "    <tr>\n",
       "      <th>4</th>\n",
       "      <td>4.36840</td>\n",
       "      <td>9.67180</td>\n",
       "      <td>-3.9606</td>\n",
       "      <td>-3.16250</td>\n",
       "      <td>0</td>\n",
       "    </tr>\n",
       "    <tr>\n",
       "      <th>...</th>\n",
       "      <td>...</td>\n",
       "      <td>...</td>\n",
       "      <td>...</td>\n",
       "      <td>...</td>\n",
       "      <td>...</td>\n",
       "    </tr>\n",
       "    <tr>\n",
       "      <th>1366</th>\n",
       "      <td>0.40614</td>\n",
       "      <td>1.34920</td>\n",
       "      <td>-1.4501</td>\n",
       "      <td>-0.55949</td>\n",
       "      <td>1</td>\n",
       "    </tr>\n",
       "    <tr>\n",
       "      <th>1367</th>\n",
       "      <td>-1.38870</td>\n",
       "      <td>-4.87730</td>\n",
       "      <td>6.4774</td>\n",
       "      <td>0.34179</td>\n",
       "      <td>1</td>\n",
       "    </tr>\n",
       "    <tr>\n",
       "      <th>1368</th>\n",
       "      <td>-3.75030</td>\n",
       "      <td>-13.45860</td>\n",
       "      <td>17.5932</td>\n",
       "      <td>-2.77710</td>\n",
       "      <td>1</td>\n",
       "    </tr>\n",
       "    <tr>\n",
       "      <th>1369</th>\n",
       "      <td>-3.56370</td>\n",
       "      <td>-8.38270</td>\n",
       "      <td>12.3930</td>\n",
       "      <td>-1.28230</td>\n",
       "      <td>1</td>\n",
       "    </tr>\n",
       "    <tr>\n",
       "      <th>1370</th>\n",
       "      <td>-2.54190</td>\n",
       "      <td>-0.65804</td>\n",
       "      <td>2.6842</td>\n",
       "      <td>1.19520</td>\n",
       "      <td>1</td>\n",
       "    </tr>\n",
       "  </tbody>\n",
       "</table>\n",
       "<p>1371 rows × 5 columns</p>\n",
       "</div>"
      ],
      "text/plain": [
       "          var      skew     curt     entr  auth\n",
       "0     4.54590   8.16740  -2.4586 -1.46210     0\n",
       "1     3.86600  -2.63830   1.9242  0.10645     0\n",
       "2     3.45660   9.52280  -4.0112 -3.59440     0\n",
       "3     0.32924  -4.45520   4.5718 -0.98880     0\n",
       "4     4.36840   9.67180  -3.9606 -3.16250     0\n",
       "...       ...       ...      ...      ...   ...\n",
       "1366  0.40614   1.34920  -1.4501 -0.55949     1\n",
       "1367 -1.38870  -4.87730   6.4774  0.34179     1\n",
       "1368 -3.75030 -13.45860  17.5932 -2.77710     1\n",
       "1369 -3.56370  -8.38270  12.3930 -1.28230     1\n",
       "1370 -2.54190  -0.65804   2.6842  1.19520     1\n",
       "\n",
       "[1371 rows x 5 columns]"
      ]
     },
     "execution_count": 10,
     "metadata": {},
     "output_type": "execute_result"
    }
   ],
   "source": [
    "data=pd.read_csv(r\"C:\\Users\\KIIT\\Desktop\\FakeCurreny Detector\\Data\\data_banknote_authentication.csv\")\n",
    "data.columns=['var','skew','curt','entr','auth']\n",
    "data"
   ]
  },
  {
   "cell_type": "code",
   "execution_count": 11,
   "id": "66d85125",
   "metadata": {},
   "outputs": [],
   "source": [
    "X=data.loc[:,data.columns!='auth']\n",
    "y=data.loc[:,data.columns=='auth']"
   ]
  },
  {
   "cell_type": "code",
   "execution_count": 12,
   "id": "157fbfc7",
   "metadata": {},
   "outputs": [],
   "source": [
    "X_train,X_test,y_train,y_test=train_test_split(X,y,train_size=0.30,random_state=42)"
   ]
  },
  {
   "cell_type": "code",
   "execution_count": 13,
   "id": "4c54b534",
   "metadata": {},
   "outputs": [],
   "source": [
    "lr=LogisticRegression(solver='lbfgs',random_state=42,multi_class='auto')"
   ]
  },
  {
   "cell_type": "code",
   "execution_count": 14,
   "id": "edf34e6a",
   "metadata": {},
   "outputs": [
    {
     "data": {
      "text/plain": [
       "LogisticRegression(random_state=42)"
      ]
     },
     "execution_count": 14,
     "metadata": {},
     "output_type": "execute_result"
    }
   ],
   "source": [
    "lr.fit(X_train,y_train.values.ravel())"
   ]
  },
  {
   "cell_type": "code",
   "execution_count": 15,
   "id": "8d95d3cf",
   "metadata": {},
   "outputs": [],
   "source": [
    "prediction=np.array(lr.predict(X_test))"
   ]
  },
  {
   "cell_type": "code",
   "execution_count": 16,
   "id": "4cdc2aa2",
   "metadata": {},
   "outputs": [],
   "source": [
    "conf_matrix = pd.DataFrame(confusion_matrix(y_test,prediction),columns=[\"Pred.Negative\",\"Pred.Positive\"],index=[\"Act.Negative\",\"Act.Positions\"])"
   ]
  },
  {
   "cell_type": "code",
   "execution_count": 17,
   "id": "910bb319",
   "metadata": {},
   "outputs": [
    {
     "name": "stdout",
     "output_type": "stream",
     "text": [
      "               Pred.Negative  Pred.Positive\n",
      "Act.Negative             527             17\n",
      "Act.Positions              1            415\n"
     ]
    }
   ],
   "source": [
    "print(conf_matrix)"
   ]
  },
  {
   "cell_type": "code",
   "execution_count": 18,
   "id": "a2b90e37",
   "metadata": {},
   "outputs": [],
   "source": [
    "tn,fp,fn,tp=confusion_matrix(y_test,prediction).ravel()"
   ]
  },
  {
   "cell_type": "code",
   "execution_count": 19,
   "id": "62db520f",
   "metadata": {},
   "outputs": [],
   "source": [
    "accuracy=round((tn+tp)/(tn+fp+fn+tp),4)"
   ]
  },
  {
   "cell_type": "code",
   "execution_count": 20,
   "id": "d81385d2",
   "metadata": {},
   "outputs": [
    {
     "name": "stdout",
     "output_type": "stream",
     "text": [
      "\n",
      "Accuracy = 99.17%\n"
     ]
    }
   ],
   "source": [
    "print(f'\\nAccuracy = {round(100*accuracy,2)}%')"
   ]
  },
  {
   "cell_type": "code",
   "execution_count": null,
   "id": "1603e9e6",
   "metadata": {},
   "outputs": [],
   "source": []
  }
 ],
 "metadata": {
  "kernelspec": {
   "display_name": "Python 3 (ipykernel)",
   "language": "python",
   "name": "python3"
  },
  "language_info": {
   "codemirror_mode": {
    "name": "ipython",
    "version": 3
   },
   "file_extension": ".py",
   "mimetype": "text/x-python",
   "name": "python",
   "nbconvert_exporter": "python",
   "pygments_lexer": "ipython3",
   "version": "3.9.13"
  }
 },
 "nbformat": 4,
 "nbformat_minor": 5
}
